{
 "metadata": {
  "language_info": {
   "codemirror_mode": {
    "name": "ipython",
    "version": 3
   },
   "file_extension": ".py",
   "mimetype": "text/x-python",
   "name": "python",
   "nbconvert_exporter": "python",
   "pygments_lexer": "ipython3",
   "version": "3.8.3-final"
  },
  "orig_nbformat": 2,
  "kernelspec": {
   "name": "Python 3.8.3 64-bit ('base': conda)",
   "display_name": "Python 3.8.3 64-bit ('base': conda)",
   "metadata": {
    "interpreter": {
     "hash": "c72a629dba5ae9edebcad565c17c3988d814021371aabb3db62cb04d2b10dbfe"
    }
   }
  }
 },
 "nbformat": 4,
 "nbformat_minor": 2,
 "cells": [
  {
   "cell_type": "code",
   "execution_count": 9,
   "metadata": {},
   "outputs": [
    {
     "output_type": "error",
     "ename": "ModuleNotFoundError",
     "evalue": "No module named 'utilities'",
     "traceback": [
      "\u001b[1;31m---------------------------------------------------------------------------\u001b[0m",
      "\u001b[1;31mModuleNotFoundError\u001b[0m                       Traceback (most recent call last)",
      "\u001b[1;32m<ipython-input-9-9521dc02f91b>\u001b[0m in \u001b[0;36m<module>\u001b[1;34m\u001b[0m\n\u001b[0;32m      4\u001b[0m \u001b[1;32mimport\u001b[0m \u001b[0mlusid\u001b[0m\u001b[1;33m\u001b[0m\u001b[1;33m\u001b[0m\u001b[0m\n\u001b[0;32m      5\u001b[0m \u001b[1;32mimport\u001b[0m \u001b[0mdatetime\u001b[0m\u001b[1;33m\u001b[0m\u001b[1;33m\u001b[0m\u001b[0m\n\u001b[1;32m----> 6\u001b[1;33m \u001b[1;32mfrom\u001b[0m \u001b[0mutilities\u001b[0m \u001b[1;32mimport\u001b[0m \u001b[0mTestDataUtilities\u001b[0m\u001b[1;33m\u001b[0m\u001b[1;33m\u001b[0m\u001b[0m\n\u001b[0m\u001b[0;32m      7\u001b[0m \u001b[1;33m\u001b[0m\u001b[0m\n\u001b[0;32m      8\u001b[0m \u001b[1;32mclass\u001b[0m \u001b[0mComplexInstrumentTests\u001b[0m\u001b[1;33m(\u001b[0m\u001b[0munittest\u001b[0m\u001b[1;33m.\u001b[0m\u001b[0mTestCase\u001b[0m\u001b[1;33m)\u001b[0m\u001b[1;33m:\u001b[0m\u001b[1;33m\u001b[0m\u001b[1;33m\u001b[0m\u001b[0m\n",
      "\u001b[1;31mModuleNotFoundError\u001b[0m: No module named 'utilities'"
     ]
    }
   ],
   "source": [
    "#Python notebook for OTC derivatives - Copying from C# SDK\n",
    "\n",
    "import unittest\n",
    "import lusid\n",
    "import datetime\n",
    "from utilities import TestDataUtilities\n",
    "\n",
    "class ComplexInstrumentTests(unittest.TestCase):\n",
    "    @classmethod\n",
    "    def setUpClass(cls):\n",
    "        api_client = TestDataUtilities.api_client()\n",
    "        cls.instruments_api = lusid.InstrumentsApi(api_client)\n",
    "\n",
    "    # Define a function to upsert instrument\n",
    "    def upsert_otc_to_lusid(self, instrument, name, lusid_id):\n",
    "        response = self.instruments_api.upsert_instruments(request_body = {instrument : models.InstrumentDefinition(\n",
    "            name = name, \n",
    "            identifiers = {lusid_id : models.InstrumentIdValue(value = lusid_id)}\n",
    "                )\n",
    "            }\n",
    "        )\n",
    "    # Check for failures with response \n",
    "        self.assertEqual(len(response.values), 1, response.failed)\n",
    "\n",
    "    def query_otc_from_lusid(self, lusid_id):\n",
    "        self.instruments_api.get_instruments(identifier_type= 'lusid_id', identifier = lusid_id)\n",
    "\n",
    "    # Create an FX-Forward (that can be then upserted into LUSID)\n",
    "    usdJpyFxRate = 109\n",
    "    def test_create_fx_forward(self):\n",
    "        fx_forward = lusid.FxForward(\n",
    "            dom_amount = -1, \n",
    "            fgn_amount = usdJpyFxRate, \n",
    "            dom_ccy = 'USD', \n",
    "            fgn_ccy = 'JPY',\n",
    "            start_date = datetime(2020, 2, 7, 00),\n",
    "            maturity_date = datetime(2020, 9, 18, 00),\n",
    "            instrument_type = 'FXFORWARD'\n",
    "        )\n",
    "\n",
    "        # Assert that it was created\n",
    "        self.assertIsNotNone(fx_forward)\n",
    "\n",
    "        # Upsert to LUSID with unique ID and \n",
    "        uniqueId = 'id-fxfwd-1'  \n",
    "        self.upsert_otc_to_lusid(fx_forward, \"some-name-for-this-fxforward\", uniqueId)\n",
    "\n",
    "        # Can now query from LUSID and run tests\n",
    "        saved_fx_forward = self.query_otc_from_lusid(uniqueId)\n",
    "        self.assertIsNotNone(saved_fx_forward)\n",
    "        self.assertEqual(saved_fx_forward.instrument_type, lusid.InstrumentType.FXFORWARD)\n",
    "        self.assertEqual(saved_fx_forward.dom_amount, fx_forward.dom_amount)\n",
    "        self.assertEqual(saved_fx_forward.fgn_amount, fx_forward.fgn_amount)\n",
    "        self.assertEqual(saved_fx_forward.dom_ccy, fx_forward.dom_ccy)\n",
    "        self.assertEqual(saved_fx_forward.fgn_ccy, fx_forward.fgn_ccy)\n",
    "\n"
   ]
  },
  {
   "cell_type": "code",
   "execution_count": null,
   "metadata": {},
   "outputs": [],
   "source": []
  }
 ]
}